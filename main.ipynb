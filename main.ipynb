{
 "cells": [
  {
   "cell_type": "markdown",
   "source": [
    "## 1. Load modules"
   ],
   "metadata": {
    "collapsed": false
   },
   "id": "b1ce901d5042b7ea"
  },
  {
   "cell_type": "code",
   "source": [
    "# Standard library\n",
    "import os\n",
    "import sys\n",
    "import itertools\n",
    "import warnings\n",
    "import pandas as pd\n",
    "from tqdm import tqdm\n",
    "import threadpoolctl\n",
    "\n",
    "# Proprietary\n",
    "from src.methods.other import SLearner \n",
    "from src.methods.neural import VCNet, DRNet, CBRNet, MLP \n",
    "from sklearn.ensemble import RandomForestRegressor\n",
    "\n",
    "from src.utils.metrics import (\n",
    "    mean_integrated_prediction_error,\n",
    ")\n",
    "from src.utils.setup import (\n",
    "    load_config,\n",
    "    check_create_csv,\n",
    "    get_rows,\n",
    "    add_row,\n",
    "    add_dict,\n",
    "    dict_to_filename\n",
    ")\n",
    "from src.utils.training import cv_tuner\n",
    "from src.utils.viz import plot_dose_response\n",
    "\n",
    "from src.optimization.optimizer import optimize_and_track_progress\n",
    "\n",
    "import logging\n",
    "logging.getLogger(\"lightning.pytorch\").setLevel(logging.ERROR)\n",
    "logger = logging.getLogger(\"lightning.pytorch.core\")\n",
    "logger.addHandler(logging.FileHandler(\"core.log\"))\n",
    "warnings.filterwarnings(\"ignore\")\n",
    "\n",
    "# set dir\n",
    "DIR = r\"C:\\Users\\...\\...\\UMCT\"\n",
    "os.chdir(DIR)\n",
    "sys.path.append(DIR)"
   ],
   "metadata": {
    "collapsed": false,
    "ExecuteTime": {
     "end_time": "2025-04-10T12:49:32.940722Z",
     "start_time": "2025-04-10T12:49:29.355587Z"
    }
   },
   "id": "6613375379bb4b7e",
   "outputs": [],
   "execution_count": 1
  },
  {
   "cell_type": "markdown",
   "source": [
    "## 2. Settings"
   ],
   "metadata": {
    "collapsed": false
   },
   "id": "d141c3f93a7f1971"
  },
  {
   "cell_type": "code",
   "source": [
    "# Load settings from config file\n",
    "config_data = load_config('config/data/config.yaml')\n",
    "config_methods = load_config('config/methods/config.yaml')\n",
    "config_optimization = load_config('config/optimization/config.yaml')\n",
    "config_plot = load_config('config/plot/config.yaml')\n",
    "config_project = load_config('config/project/config.yaml')\n",
    "\n",
    "dataset = config_data['data_settings']['dataset']\n",
    "confounding_bias = config_data['data_settings']['confounding_bias']\n",
    "HYPERPARAMS = config_methods\n",
    "optimization_settings_list = config_optimization['optimization_settings_list']\n",
    "RES_PRED_FILE = config_project['project_settings']['res_pred_file']\n",
    "TRACKER = config_project['project_settings']['tracker']\n",
    "RES_OPT_FILE = config_project['project_settings']['res_opt_file']\n",
    "CONFIG = config_data[dataset]"
   ],
   "metadata": {
    "collapsed": false,
    "ExecuteTime": {
     "end_time": "2025-04-10T12:49:33.108981Z",
     "start_time": "2025-04-10T12:49:32.945720Z"
    }
   },
   "id": "91165555bdaabebf",
   "outputs": [],
   "execution_count": 2
  },
  {
   "cell_type": "code",
   "source": [
    "# Prediction settings\n",
    "\n",
    "\"\"\"\n",
    "**model_type -- model_name**: Possible combinations\n",
    "SLearner -- randomf\n",
    "MLP -- mlp\n",
    "CBRNet -- cbrnet\n",
    "DRNet -- drnet\n",
    "VCNet -- vcnet\n",
    "\"\"\"\n",
    "\n",
    "model_settings = {\n",
    "    \"model_type\": SLearner,\n",
    "    \"model_name\": \"randomf\",\n",
    "    \"cost_sensitive_training\": False\n",
    "}\n",
    "RANDOM_SEARCH_N = 100\n",
    "\n",
    "combinations = list(itertools.product(*CONFIG.values()))\n"
   ],
   "metadata": {
    "collapsed": false,
    "ExecuteTime": {
     "end_time": "2025-04-10T12:49:35.023671Z",
     "start_time": "2025-04-10T12:49:33.186623Z"
    }
   },
   "id": "4d025dd67d09eff1",
   "outputs": [],
   "execution_count": 3
  },
  {
   "cell_type": "code",
   "source": [
    "if dataset == 'ihdp_1':\n",
    "    from src.data.ihdp_1 import load_data\n",
    "# add warning that other datasets are not supported\n",
    "else:\n",
    "    print(\"Dataset not supported\")\n",
    "    "
   ],
   "metadata": {
    "collapsed": false,
    "ExecuteTime": {
     "end_time": "2025-04-10T12:49:35.681121Z",
     "start_time": "2025-04-10T12:49:35.529922Z"
    }
   },
   "id": "c8265403031137f1",
   "outputs": [],
   "execution_count": 4
  },
  {
   "cell_type": "markdown",
   "source": [
    "## 3. CADR estimation"
   ],
   "metadata": {
    "collapsed": false
   },
   "id": "742ce34901f15260"
  },
  {
   "cell_type": "code",
   "source": [
    "######################\n",
    "# 3.1 Prediction Phase\n",
    "######################\n",
    "\n",
    "# Initialize the tracker csv file\n",
    "check_create_csv(TRACKER, CONFIG.keys())\n",
    "\n",
    "for combination in tqdm(combinations, desc=\"Iterate over combinations\"):\n",
    "    completed = get_rows(TRACKER)\n",
    "\n",
    "    if (combination in completed):\n",
    "        continue\n",
    "\n",
    "    add_row(TRACKER, combination)\n",
    "    data_settings = dict(zip(CONFIG.keys(), combination))\n",
    "    results_predict = {}\n",
    "    results_predict.update(data_settings)\n",
    "    data = load_data(bias=confounding_bias, **data_settings)\n",
    "\n",
    "    # TRAIN MODELS\n",
    "    name = model_settings[\"model_name\"]  # \"randomf\", \"mlp\", \"cbrnet\", \"drnet\", \"vcnet\"\n",
    "    if name in [\"drnet\", \"vcnet\", \"mlp\", \"cbrnet\"]:\n",
    "        HYPERPARAMS[name].update({\"input_size\": [data.x_train.shape[1]]})\n",
    "\n",
    "    parameters = HYPERPARAMS[name]\n",
    "\n",
    "    if name == \"randomf\":\n",
    "        parameters.update({\"base_model\": [RandomForestRegressor]})\n",
    "\n",
    "    model, best_paras = cv_tuner(\n",
    "        data=data,\n",
    "        model=model_settings[\"model_type\"],\n",
    "        parameters=parameters,\n",
    "        name=name,\n",
    "        num_combinations=RANDOM_SEARCH_N,\n",
    "    )\n",
    "\n",
    "    results_predict.update(\n",
    "        {\n",
    "            \"dataset\": dataset,\n",
    "            \"confounding_bias\": confounding_bias,\n",
    "            \"name\": name,\n",
    "            \"cost_sensitive_training\": model_settings[\"cost_sensitive_training\"],\n",
    "            \"MISE\": mean_integrated_prediction_error(\n",
    "                x=data.x_test,\n",
    "                t=data.t_test,\n",
    "                response=data.ground_truth,\n",
    "                model=model),\n",
    "            \"best_paras\": best_paras\n",
    "        }\n",
    "    )\n",
    "\n",
    "    add_dict(RES_PRED_FILE, results_predict)\n"
   ],
   "metadata": {
    "collapsed": false,
    "ExecuteTime": {
     "end_time": "2025-04-10T12:49:38.842981Z",
     "start_time": "2025-04-10T12:49:35.714120Z"
    }
   },
   "id": "initial_id",
   "outputs": [
    {
     "name": "stderr",
     "output_type": "stream",
     "text": [
      "Iterate over combinations:   0%|          | 0/1 [00:00<?, ?it/s]\n",
      "Tune randomf:   0%|          | 0/1 [00:00<?, ?it/s]\u001B[A\n",
      "\n",
      "Iterate over folds:   0%|          | 0/5 [00:00<?, ?it/s]\u001B[A\u001B[A\n",
      "\n",
      "Iterate over folds:  20%|██        | 1/5 [00:00<00:01,  3.22it/s]\u001B[A\u001B[A\n",
      "\n",
      "Iterate over folds:  40%|████      | 2/5 [00:00<00:00,  3.23it/s]\u001B[A\u001B[A\n",
      "\n",
      "Iterate over folds:  60%|██████    | 3/5 [00:00<00:00,  3.25it/s]\u001B[A\u001B[A\n",
      "\n",
      "Iterate over folds:  80%|████████  | 4/5 [00:01<00:00,  3.22it/s]\u001B[A\u001B[A\n",
      "\n",
      "Iterate over folds: 100%|██████████| 5/5 [00:01<00:00,  3.27it/s]\u001B[A\u001B[A\n",
      "\n",
      "                                                                 \u001B[A\u001B[A\n",
      "Tune randomf: 100%|██████████| 1/1 [00:01<00:00,  1.55s/it]\u001B[A\n",
      "Iterate over combinations: 100%|██████████| 1/1 [00:02<00:00,  2.98s/it]\n"
     ]
    }
   ],
   "execution_count": 5
  },
  {
   "cell_type": "code",
   "source": [
    "################################\n",
    "# 3.2. Plot dose-response estimates \n",
    "################################\n",
    "\n",
    "plot_dose_response(data=data,\n",
    "                   split=\"test\",\n",
    "                   model=model,\n",
    "                   name=name,\n",
    "                   plot_settings=config_plot,\n",
    "                   optimization_settings=optimization_settings_list,\n",
    "                   decision_vars=None)"
   ],
   "metadata": {
    "collapsed": false,
    "ExecuteTime": {
     "end_time": "2025-04-10T12:49:41.229790Z",
     "start_time": "2025-04-10T12:49:38.874981Z"
    }
   },
   "id": "22000dff8e892fac",
   "outputs": [
    {
     "data": {
      "text/plain": [
       "<Figure size 500x300 with 1 Axes>"
      ],
      "image/png": "[encoded data removed]"
     },
     "metadata": {},
     "output_type": "display_data"
    }
   ],
   "execution_count": 6
  },
  {
   "cell_type": "markdown",
   "source": [
    "## 4. ... and Optimize"
   ],
   "metadata": {
    "collapsed": false
   },
   "id": "a9ada39c3e0369c9"
  },
  {
   "cell_type": "code",
   "source": [
    "results_optimize, decision_vars = optimize_and_track_progress(\n",
    "    data=data,\n",
    "    model=model,\n",
    "    model_settings=model_settings,\n",
    "    results_predict=results_predict,\n",
    "    RES_OPT_FILE=RES_OPT_FILE,\n",
    "    optimization_settings_list=optimization_settings_list\n",
    ")\n"
   ],
   "metadata": {
    "collapsed": false,
    "ExecuteTime": {
     "end_time": "2025-04-10T12:49:44.359940Z",
     "start_time": "2025-04-10T12:49:41.262792Z"
    }
   },
   "id": "b74c49d1eb92c253",
   "outputs": [
    {
     "name": "stdout",
     "output_type": "stream",
     "text": [
      "Optimization for 'randomf'  started. 2 runs.\n",
      "{'exact': ['exact', 'heuristic1'], 'cost_sensitive_optimization': [False], 'protected_attribute': [23], 'epsilon_disparate_treatment': [1], 'epsilon_disparate_outcome': [1], 'budget_list': [100], 'ntreatments_list': [10]}\n"
     ]
    },
    {
     "name": "stderr",
     "output_type": "stream",
     "text": [
      "  0%|          | 0/2 [00:00<?, ?it/s]"
     ]
    },
    {
     "name": "stdout",
     "output_type": "stream",
     "text": [
      "finding $\\stackrel100\\Pi^{opt}$ with ILP\n",
      "Optimization problem solved successfully.\n",
      "Status: Optimal\n",
      "finding $\\stackrel100\\Pi^{opt}$ with ILP\n",
      "Optimization problem solved successfully.\n",
      "Status: Optimal\n",
      "finding $\\stackrel100\\Pi^{opt}$ with ILP\n",
      "Optimization problem solved successfully.\n",
      "Status: Optimal\n",
      "finding $\\stackrel100\\Pi^{exp}$ with ILP\n"
     ]
    },
    {
     "name": "stderr",
     "output_type": "stream",
     "text": [
      " 50%|█████     | 1/2 [00:01<00:01,  1.60s/it]"
     ]
    },
    {
     "name": "stdout",
     "output_type": "stream",
     "text": [
      "Optimization problem solved successfully.\n",
      "Status: Optimal\n",
      "finding $\\stackrel100\\Pi^{opt}$ with ILP\n",
      "Optimization problem solved successfully.\n",
      "Status: Optimal\n",
      "finding $\\stackrel100\\Pi^{opt}$ with ILP\n",
      "Optimization problem solved successfully.\n",
      "Status: Optimal\n",
      "finding $\\stackrel100\\Pi^{opt}$ with ILP\n",
      "Optimization problem solved successfully.\n",
      "Status: Optimal\n"
     ]
    },
    {
     "name": "stderr",
     "output_type": "stream",
     "text": [
      "100%|██████████| 2/2 [00:02<00:00,  1.46s/it]"
     ]
    },
    {
     "name": "stdout",
     "output_type": "stream",
     "text": [
      "finding $\\stackrel100\\Pi^{exp}$ with heuristic1 - using estimated CADEs\n"
     ]
    },
    {
     "name": "stderr",
     "output_type": "stream",
     "text": [
      "\n"
     ]
    }
   ],
   "execution_count": 7
  },
  {
   "metadata": {
    "ExecuteTime": {
     "end_time": "2025-04-10T12:49:44.439944Z",
     "start_time": "2025-04-10T12:49:44.424944Z"
    }
   },
   "cell_type": "code",
   "source": "",
   "id": "727720fb72435b8f",
   "outputs": [],
   "execution_count": null
  },
  {
   "metadata": {
    "ExecuteTime": {
     "end_time": "2025-04-10T12:49:44.455943Z",
     "start_time": "2025-04-10T12:49:44.447942Z"
    }
   },
   "cell_type": "code",
   "source": "",
   "id": "6269469528b02225",
   "outputs": [],
   "execution_count": null
  }
 ],
 "metadata": {
  "kernelspec": {
   "display_name": "Python 3",
   "language": "python",
   "name": "python3"
  },
  "language_info": {
   "codemirror_mode": {
    "name": "ipython",
    "version": 2
   },
   "file_extension": ".py",
   "mimetype": "text/x-python",
   "name": "python",
   "nbconvert_exporter": "python",
   "pygments_lexer": "ipython2",
   "version": "2.7.6"
  }
 },
 "nbformat": 4,
 "nbformat_minor": 5
}
