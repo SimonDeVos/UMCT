{
 "cells": [
  {
   "cell_type": "markdown",
   "source": [
    "## 1. Load modules"
   ],
   "metadata": {
    "collapsed": false
   },
   "id": "b1ce901d5042b7ea"
  },
  {
   "cell_type": "code",
   "execution_count": 1,
   "outputs": [],
   "source": [
    "%load_ext autoreload\n",
    "%autoreload 2\n",
    "\n",
    "# Standard library\n",
    "import os\n",
    "import sys\n",
    "import itertools\n",
    "import warnings\n",
    "import pandas as pd\n",
    "from tqdm import tqdm\n",
    "import threadpoolctl\n",
    "\n",
    "# Proprietary\n",
    "from src.methods.other import SLearner \n",
    "from src.methods.neural import VCNet, DRNet, CBRNet, MLP \n",
    "from sklearn.ensemble import RandomForestRegressor\n",
    "\n",
    "from src.utils.metrics import (\n",
    "    mean_integrated_prediction_error,\n",
    ")\n",
    "from src.utils.setup import (\n",
    "    load_config,\n",
    "    check_create_csv,\n",
    "    get_rows,\n",
    "    add_row,\n",
    "    add_dict,\n",
    "    dict_to_filename\n",
    ")\n",
    "from src.utils.training import cv_tuner\n",
    "from src.utils.viz import plot_dose_response\n",
    "\n",
    "from src.optimization.optimizer import optimize_and_track_progress\n",
    "\n",
    "import logging\n",
    "logging.getLogger(\"lightning.pytorch\").setLevel(logging.ERROR)\n",
    "logger = logging.getLogger(\"lightning.pytorch.core\")\n",
    "logger.addHandler(logging.FileHandler(\"core.log\"))\n",
    "warnings.filterwarnings(\"ignore\")\n",
    "\n",
    "# set dir\n",
    "DIR = r\"C:\\Users\\u0148775\\PycharmProjects\\ICTE\"\n",
    "os.chdir(DIR)\n",
    "sys.path.append(DIR)"
   ],
   "metadata": {
    "collapsed": false,
    "ExecuteTime": {
     "end_time": "2024-12-09T13:38:01.118712700Z",
     "start_time": "2024-12-09T13:37:48.107075400Z"
    }
   },
   "id": "6613375379bb4b7e"
  },
  {
   "cell_type": "markdown",
   "source": [
    "## 2. Settings"
   ],
   "metadata": {
    "collapsed": false
   },
   "id": "d141c3f93a7f1971"
  },
  {
   "cell_type": "code",
   "execution_count": 2,
   "outputs": [],
   "source": [
    "# Load settings from config file\n",
    "config_data = load_config('config/data/config.yaml')\n",
    "config_methods = load_config('config/methods/config.yaml')\n",
    "config_optimization = load_config('config/optimization/config.yaml')\n",
    "config_plot = load_config('config/plot/config.yaml')\n",
    "config_project = load_config('config/project/config.yaml')\n",
    "\n",
    "dataset = config_data['data_settings']['dataset']\n",
    "confounding_bias = config_data['data_settings']['confounding_bias']\n",
    "HYPERPARAMS = config_methods\n",
    "optimization_settings_list = config_optimization['optimization_settings_list']\n",
    "RES_PRED_FILE = config_project['project_settings']['res_pred_file']\n",
    "TRACKER = config_project['project_settings']['tracker']\n",
    "RES_OPT_FILE = config_project['project_settings']['res_opt_file']\n",
    "CONFIG = config_data[dataset]"
   ],
   "metadata": {
    "collapsed": false,
    "ExecuteTime": {
     "end_time": "2024-12-09T13:38:01.309716500Z",
     "start_time": "2024-12-09T13:38:01.118712700Z"
    }
   },
   "id": "91165555bdaabebf"
  },
  {
   "cell_type": "code",
   "execution_count": 3,
   "outputs": [],
   "source": [
    "# Prediction settings\n",
    "\n",
    "\"\"\"\n",
    "**model_type -- model_name**: Possible combinations\n",
    "SLearner -- randomf\n",
    "MLP -- mlp\n",
    "CBRNet -- cbrnet\n",
    "DRNet -- drnet\n",
    "VCNet -- vcnet\n",
    "\"\"\"\n",
    "\n",
    "model_settings = {\n",
    "    \"model_type\": VCNet,\n",
    "    \"model_name\": \"vcnet\", \n",
    "    \"cost_sensitive_training\": False\n",
    "}\n",
    "RANDOM_SEARCH_N = 100\n",
    "\n",
    "combinations = list(itertools.product(*CONFIG.values()))\n"
   ],
   "metadata": {
    "collapsed": false,
    "ExecuteTime": {
     "end_time": "2024-12-09T13:38:01.468815400Z",
     "start_time": "2024-12-09T13:38:01.311711200Z"
    }
   },
   "id": "4d025dd67d09eff1"
  },
  {
   "cell_type": "code",
   "execution_count": 4,
   "outputs": [],
   "source": [
    "if dataset == 'ihdp_1':\n",
    "    from src.data.ihdp_1 import load_data\n",
    "# add warning that other datasets are not supported\n",
    "else:\n",
    "    print(\"Dataset not supported\")\n",
    "    "
   ],
   "metadata": {
    "collapsed": false,
    "ExecuteTime": {
     "end_time": "2024-12-09T13:38:01.611813300Z",
     "start_time": "2024-12-09T13:38:01.469817500Z"
    }
   },
   "id": "c8265403031137f1"
  },
  {
   "cell_type": "markdown",
   "source": [
    "## 3. CADR estimation"
   ],
   "metadata": {
    "collapsed": false
   },
   "id": "742ce34901f15260"
  },
  {
   "cell_type": "code",
   "execution_count": 5,
   "outputs": [
    {
     "name": "stderr",
     "output_type": "stream",
     "text": [
      "Iterate over combinations:   0%|          | 0/1 [00:00<?, ?it/s]\n",
      "Tune vcnet:   0%|          | 0/1 [00:00<?, ?it/s]\u001B[A\n",
      "\n",
      "Iterate over folds:   0%|          | 0/5 [00:00<?, ?it/s]\u001B[A\u001B[A\n",
      "\n",
      "Iterate over folds:  20%|██        | 1/5 [00:08<00:34,  8.64s/it]\u001B[A\u001B[A\n",
      "\n",
      "Iterate over folds:  40%|████      | 2/5 [00:17<00:25,  8.59s/it]\u001B[A\u001B[A\n",
      "\n",
      "Iterate over folds:  60%|██████    | 3/5 [00:25<00:17,  8.60s/it]\u001B[A\u001B[A\n",
      "\n",
      "Iterate over folds:  80%|████████  | 4/5 [00:34<00:08,  8.77s/it]\u001B[A\u001B[A\n",
      "\n",
      "Iterate over folds: 100%|██████████| 5/5 [00:43<00:00,  8.83s/it]\u001B[A\u001B[A\n",
      "\n",
      "                                                                 \u001B[A\u001B[A\n",
      "Tune vcnet: 100%|██████████| 1/1 [00:43<00:00, 43.77s/it]\u001B[A\n",
      "Iterate over combinations: 100%|██████████| 1/1 [00:53<00:00, 53.38s/it]\n"
     ]
    }
   ],
   "source": [
    "######################\n",
    "# 3.1 Prediction Phase\n",
    "######################\n",
    "\n",
    "# Initialize the tracker csv file\n",
    "check_create_csv(TRACKER, CONFIG.keys())\n",
    "\n",
    "for combination in tqdm(combinations, desc=\"Iterate over combinations\"):\n",
    "    completed = get_rows(TRACKER)\n",
    "\n",
    "    if (combination in completed):\n",
    "        continue\n",
    "\n",
    "    add_row(TRACKER, combination)\n",
    "    data_settings = dict(zip(CONFIG.keys(), combination))\n",
    "    results_predict = {}\n",
    "    results_predict.update(data_settings)\n",
    "    data = load_data(bias=confounding_bias, **data_settings)\n",
    "\n",
    "    # TRAIN MODELS\n",
    "    name = model_settings[\"model_name\"]  # \"randomf\", \"mlp\", \"cbrnet\", \"drnet\", \"vcnet\"\n",
    "    if name in [\"drnet\", \"vcnet\", \"mlp\", \"cbrnet\"]:\n",
    "        HYPERPARAMS[name].update({\"input_size\": [data.x_train.shape[1]]})\n",
    "\n",
    "    parameters = HYPERPARAMS[name]\n",
    "\n",
    "    if name == \"randomf\":\n",
    "        parameters.update({\"base_model\": [RandomForestRegressor]})\n",
    "\n",
    "    model, best_paras = cv_tuner(\n",
    "        data=data,\n",
    "        model=model_settings[\"model_type\"],\n",
    "        parameters=parameters,\n",
    "        name=name,\n",
    "        num_combinations=RANDOM_SEARCH_N,\n",
    "    )\n",
    "\n",
    "    results_predict.update(\n",
    "        {\n",
    "            \"dataset\": dataset,\n",
    "            \"confounding_bias\": confounding_bias,\n",
    "            \"name\": name,\n",
    "            \"cost_sensitive_training\": model_settings[\"cost_sensitive_training\"],\n",
    "            \"MISE\": mean_integrated_prediction_error(\n",
    "                x=data.x_test,\n",
    "                t=data.t_test,\n",
    "                response=data.ground_truth,\n",
    "                model=model),\n",
    "            \"best_paras\": best_paras\n",
    "        }\n",
    "    )\n",
    "\n",
    "    add_dict(RES_PRED_FILE, results_predict)\n"
   ],
   "metadata": {
    "collapsed": false,
    "ExecuteTime": {
     "end_time": "2024-12-09T13:38:55.160850300Z",
     "start_time": "2024-12-09T13:38:01.616815700Z"
    }
   },
   "id": "initial_id"
  },
  {
   "cell_type": "code",
   "execution_count": 6,
   "outputs": [
    {
     "data": {
      "text/plain": "<Figure size 500x300 with 1 Axes>",
      "image/png": "[encoded data removed]"
     },
     "metadata": {},
     "output_type": "display_data"
    }
   ],
   "source": [
    "################################\n",
    "# 3.2. Plot dose-response estimates \n",
    "################################\n",
    "\n",
    "plot_dose_response(data=data,\n",
    "                   split=\"test\",\n",
    "                   model=model,\n",
    "                   name=name,\n",
    "                   plot_settings=config_plot,\n",
    "                   optimization_settings=optimization_settings_list,\n",
    "                   decision_vars=None)"
   ],
   "metadata": {
    "collapsed": false,
    "ExecuteTime": {
     "end_time": "2024-12-09T13:38:58.533769800Z",
     "start_time": "2024-12-09T13:38:55.163850200Z"
    }
   },
   "id": "22000dff8e892fac"
  },
  {
   "cell_type": "markdown",
   "source": [
    "## 4. ... and Optimize"
   ],
   "metadata": {
    "collapsed": false
   },
   "id": "a9ada39c3e0369c9"
  },
  {
   "cell_type": "code",
   "execution_count": 7,
   "outputs": [
    {
     "name": "stdout",
     "output_type": "stream",
     "text": [
      "Optimization for 'vcnet'  started. 26 runs.\n",
      "{'exact': [True], 'cost_sensitive_optimization': [False], 'protected_attribute': [23], 'epsilon_disparate_treatment': [1], 'epsilon_disparate_outcome': [1], 'budget_list': [0, 10, 20, 30, 40, 50, 60, 70, 80, 90, 100, 110, 120, 130, 140, 150, 160, 170, 180, 190, 200, 210, 220, 230, 240, 250], 'ntreatments_list': [10]}\n"
     ]
    },
    {
     "name": "stderr",
     "output_type": "stream",
     "text": [
      "100%|██████████| 26/26 [00:40<00:00,  1.55s/it]\n"
     ]
    }
   ],
   "source": [
    "results_optimize, decision_vars = optimize_and_track_progress(\n",
    "    data=data,\n",
    "    model=model,\n",
    "    model_settings=model_settings,\n",
    "    results_predict=results_predict,\n",
    "    RES_OPT_FILE=RES_OPT_FILE,\n",
    "    optimization_settings_list=optimization_settings_list\n",
    ")\n"
   ],
   "metadata": {
    "collapsed": false,
    "ExecuteTime": {
     "end_time": "2024-12-09T13:39:39.015592200Z",
     "start_time": "2024-12-09T13:38:58.534770100Z"
    }
   },
   "id": "b74c49d1eb92c253"
  },
  {
   "cell_type": "code",
   "execution_count": 7,
   "outputs": [],
   "source": [],
   "metadata": {
    "collapsed": false,
    "ExecuteTime": {
     "end_time": "2024-12-09T13:39:39.032594500Z",
     "start_time": "2024-12-09T13:39:39.016592900Z"
    }
   },
   "id": "f4b15f42ee60db38"
  }
 ],
 "metadata": {
  "kernelspec": {
   "display_name": "Python 3",
   "language": "python",
   "name": "python3"
  },
  "language_info": {
   "codemirror_mode": {
    "name": "ipython",
    "version": 2
   },
   "file_extension": ".py",
   "mimetype": "text/x-python",
   "name": "python",
   "nbconvert_exporter": "python",
   "pygments_lexer": "ipython2",
   "version": "2.7.6"
  }
 },
 "nbformat": 4,
 "nbformat_minor": 5
}
